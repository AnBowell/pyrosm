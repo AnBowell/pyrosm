{
 "cells": [
  {
   "cell_type": "markdown",
   "metadata": {},
   "source": [
    "# Basic usage\n",
    "\n",
    "## Protobuf file: What is it, where to get one?\n",
    "\n",
    "`Pyrosm` is designed to work with \n",
    "\n",
    "## Reading data from PBF\n",
    "\n",
    "Using `pyrosm` is straightforward. Following sections introduce how to parse various kind of datasets from OSM Protobuf files. "
   ]
  }
 ],
 "metadata": {
  "kernelspec": {
   "display_name": "Python 3",
   "language": "python",
   "name": "python3"
  },
  "language_info": {
   "name": ""
  }
 },
 "nbformat": 4,
 "nbformat_minor": 4
}
