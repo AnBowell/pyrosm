{
 "cells": [
  {
   "cell_type": "markdown",
   "metadata": {},
   "source": [
    "# Benchmarks\n",
    "\n",
    "`Pyrosm` aims to be an easy-to-use and fast Python tool for parsing OpenStreetMap data from Protocolbuffer Binary Format (PBF) files into [geopandas](http://geopandas.org/) which is the Python's go-to library for working with spatial data. Pyrosm has been written mainly in Cython (Python with C-like performance) which makes it probably faster than any other Python alternatives for parsing OpenStreetMap data. Pyrosm is built on top of another Cython library called Pyrobuf which is a faster Cython alternative to Google’s Protobuf library: It provides 2-4x boost in performance for deserializing the protocol buffer messages compared to Google’s version with C++ backend. Google’s Protocol Buffers is a commonly used and efficient method to serialize and compress structured data which is also used by OpenStreetMap contributors to distribute the OSM data in PBF format (Protocolbuffer Binary Format). In addition, Pyrosm uses extensively Numpy array operations and parses geometries using Pygeos which are both excellent choises for fast and memory efficient data manipulation in Python.\n",
    "\n",
    "To better understand the performance of Pyrosm, here pyrosm is compared against other similar tools. There are various tools available for parsing OSM data (such as Osmosis, Osmium-tool, esy-osm-pbf, osmread), however, most of them are not easy to use, they are not for Python, or they are hard to install with all operating systems. The most similar tool to Pyrosm is [OSMnx](https://github.com/gboeing/osmnx) which makes it possible to retrieve OpenStreetMap data easily into GeoDataFrames utilizing OverPass API (it also inspired building this one!). Hence, the comparisons and benchmarking are done between Pyrosm and OSMnx. In the tests, we benchmark the time it takes to retrievie different datasets for Helsinki Region, Finland. We also test how long it takes to parse data covering large geographical areas such as the state of New York. \n",
    "\n",
    "Hardware: The benchmarks are conducted with Lenovo T480 laptop with 16GB of RAM, SSD-disk and Intel Core i5-8250U CPU (1.6 GHZ) running on Windows 10.  "
   ]
  },
  {
   "cell_type": "code",
   "execution_count": 1,
   "metadata": {},
   "outputs": [
    {
     "name": "stdout",
     "output_type": "stream",
     "text": [
      "Downloaded Protobuf data 'Helsinki_region.osm.pbf' (35.0 MB) to TEMP:\n",
      "'C:\\Users\\LOCALA~1\\AppData\\Local\\Temp\\pyrosm\\Helsinki_region.osm.pbf'\n",
      "=====================================\n",
      "PYROSM\n",
      "=====================================\n",
      "Parsing buildings with Pyrosm lasted 22.9 seconds.\n",
      "Number of buildings in the Pyrosm dataset: 175970\n",
      "\n",
      "=====================================\n",
      "\n",
      "=====================================\n",
      "OSMNX\n",
      "=====================================\n",
      "Parsing buildings with OSMnx lasted 60.9 seconds.\n",
      "Number of buildings in the OSMnx dataset: 180893\n",
      "\n",
      "=====================================\n",
      "\n"
     ]
    }
   ],
   "source": [
    "import osmnx as ox\n",
    "from shapely.geometry import box\n",
    "from pyrosm import OSM, get_path\n",
    "import time\n",
    "\n",
    "# Parse buildings with Pyrosm and time it\n",
    "start_t = time.time()\n",
    "\n",
    "# A PBF data for Helsinki Region (~34 MB)\n",
    "# will be downloaded automatically to TEMP with Pyrosm\n",
    "pbf_path = get_path(\"helsinki_region_pbf\")\n",
    "\n",
    "osm = OSM(pbf_path)\n",
    "buildings_A = osm.get_buildings()\n",
    "print(\"=====================================\\nPYROSM\\n=====================================\")\n",
    "print(f\"Parsing buildings with Pyrosm lasted {round(time.time() - start_t, 1)} seconds.\")\n",
    "print(f\"Number of buildings in the Pyrosm dataset: {len(buildings_A)}\")\n",
    "print(\"\\n=====================================\\n\")\n",
    "\n",
    "# Parse buildings from the same region using OSMnx and time it\n",
    "start_t = time.time()\n",
    "data_extent = box(*buildings_A.total_bounds)\n",
    "buildings_B = ox.footprints_from_polygon(polygon=data_extent,\n",
    "                                         footprint_type=\"building\",\n",
    "                                         retain_invalid=False,\n",
    "                                         )\n",
    "print(\"=====================================\\nOSMNX\\n=====================================\")\n",
    "print(f\"Parsing buildings with OSMnx lasted {round(time.time() - start_t, 1)} seconds.\")\n",
    "print(f\"Number of buildings in the OSMnx dataset: {len(buildings_B)}\")\n",
    "print(\"\\n=====================================\\n\")"
   ]
  },
  {
   "cell_type": "markdown",
   "metadata": {},
   "source": [
    "Okay, as we can see Pyrosm, is approximately **2.7 times faster** than OSMnx in parsing buildings from the given area. \n",
    "\n",
    "It's not bad, but actually the difference between the two comes even more evident when parsing multiple datasets from OSM simultaneously (e.g. roads, buildings, and Points of Interests). Whereas OSMnx does separate OverPass API calls for each of these datasets separately, Pyrosm needs to download the raw data only once, and then parse different datasets from the same data-dump.\n",
    "\n",
    "Let's conduct another comparison between the tools by reading buildings, Points of Interest (amenities) and roads from OpenStreetMap:"
   ]
  },
  {
   "cell_type": "code",
   "execution_count": 2,
   "metadata": {},
   "outputs": [
    {
     "name": "stdout",
     "output_type": "stream",
     "text": [
      "=====================================\n",
      "PYROSM\n",
      "=====================================\n",
      "Parsing buildings with Pyrosm lasted 18.4 seconds.\n",
      "Number of buildings in the Pyrosm dataset: 175970\n",
      "\n",
      "......................................\n",
      "\n",
      "Parsing roads with Pyrosm lasted 3.2 seconds.\n",
      "Number of roads in the Pyrosm dataset: 85397\n",
      "\n",
      "......................................\n",
      "\n",
      "Parsing POIs with Pyrosm lasted 4.3 seconds.\n",
      "Number of roads in the Pyrosm dataset: 26102\n",
      "\n",
      "......................................\n",
      "\n",
      "TOTAL TIME: 26.7 seconds.\n",
      "\n",
      "======================================\n",
      "\n",
      "=====================================\n",
      "OSMNX\n",
      "=====================================\n",
      "Parsing buildings with OSMnx lasted 58.0 seconds.\n",
      "Number of buildings in the OSMnx dataset: 180893\n",
      "\n",
      "......................................\n",
      "\n",
      "Parsing roads with OSMnx lasted 78.3 seconds.\n",
      "Number of roads in the OSMnx dataset: 60406\n",
      "\n",
      "......................................\n",
      "\n",
      "Parsing POIs with OSMnx lasted 52.9 seconds.\n",
      "Number of POIs in the OSMnx dataset: 30821\n",
      "\n",
      "......................................\n",
      "\n",
      "TOTAL TIME: 189.2 seconds.\n",
      "\n",
      "======================================\n",
      "\n"
     ]
    }
   ],
   "source": [
    "import osmnx as ox\n",
    "from shapely.geometry import box\n",
    "from pyrosm import OSM, get_path\n",
    "import time\n",
    "\n",
    "# =======================\n",
    "# PYROSM\n",
    "# =======================\n",
    "\n",
    "# Total time\n",
    "tot_t = time.time()\n",
    "\n",
    "# A PBF data for Helsinki Region (~34 MB)\n",
    "# Will be downloaded automatically to TEMP with Pyrosm\n",
    "pbf_path = get_path(\"helsinki_region_pbf\")\n",
    "osm = OSM(pbf_path)\n",
    "\n",
    "start_t = time.time()\n",
    "buildings_A = osm.get_buildings()\n",
    "print(\"=====================================\\nPYROSM\\n=====================================\")\n",
    "print(f\"Parsing buildings with Pyrosm lasted {round(time.time() - start_t, 1)} seconds.\")\n",
    "print(f\"Number of buildings in the Pyrosm dataset: {len(buildings_A)}\")\n",
    "print(\"\\n......................................\\n\")\n",
    "\n",
    "start_t = time.time()\n",
    "roads_A = osm.get_network(\"driving\")\n",
    "print(f\"Parsing roads with Pyrosm lasted {round(time.time() - start_t, 1)} seconds.\")\n",
    "print(f\"Number of roads in the Pyrosm dataset: {len(roads_A)}\")\n",
    "print(\"\\n......................................\\n\")\n",
    "\n",
    "start_t = time.time()\n",
    "pois_A = osm.get_pois({\"amenity\": True})\n",
    "print(f\"Parsing POIs with Pyrosm lasted {round(time.time() - start_t, 1)} seconds.\")\n",
    "print(f\"Number of roads in the Pyrosm dataset: {len(pois_A)}\")\n",
    "print(\"\\n......................................\\n\")\n",
    "print(f\"TOTAL TIME: {round(time.time() - tot_t, 1)} seconds.\" )\n",
    "print(\"\\n======================================\\n\")\n",
    "\n",
    "# =======================\n",
    "# OSMNX\n",
    "# =======================\n",
    "data_extent = box(*buildings_A.total_bounds)\n",
    "\n",
    "# Total time\n",
    "tot_t = time.time()\n",
    "\n",
    "# Parse data from the same region using OSMnx and time it\n",
    "start_t = time.time()\n",
    "data_extent = box(*buildings_A.total_bounds)\n",
    "\n",
    "buildings_B = ox.footprints_from_polygon(polygon=data_extent,\n",
    "                                         footprint_type=\"building\",\n",
    "                                         retain_invalid=False,\n",
    "                                         )\n",
    "print(\"=====================================\\nOSMNX\\n=====================================\")\n",
    "print(f\"Parsing buildings with OSMnx lasted {round(time.time() - start_t, 1)} seconds.\")\n",
    "print(f\"Number of buildings in the OSMnx dataset: {len(buildings_B)}\")\n",
    "print(\"\\n......................................\\n\")\n",
    "\n",
    "start_t = time.time()\n",
    "\n",
    "# Parsing steetnetworks with OSMnx requires first building the graph\n",
    "# and then parsing GeoDataFrame from it (afaik, there's no way to get gdf directly)\n",
    "roads_B_graph = ox.graph_from_polygon(polygon=data_extent, network_type=\"drive\")\n",
    "roads_B = ox.graph_to_gdfs(roads_B_graph, nodes=False)\n",
    "\n",
    "print(f\"Parsing roads with OSMnx lasted {round(time.time() - start_t, 1)} seconds.\")\n",
    "print(f\"Number of roads in the OSMnx dataset: {len(roads_B)}\")\n",
    "print(\"\\n......................................\\n\")\n",
    "\n",
    "start_t = time.time()\n",
    "pois_B = ox.pois_from_polygon(polygon=data_extent)\n",
    "\n",
    "print(f\"Parsing POIs with OSMnx lasted {round(time.time() - start_t, 1)} seconds.\")\n",
    "print(f\"Number of POIs in the OSMnx dataset: {len(pois_B)}\")\n",
    "print(\"\\n......................................\\n\")\n",
    "print(f\"TOTAL TIME: {round(time.time() - tot_t, 1)} seconds.\" )\n",
    "print(\"\\n======================================\\n\")\n"
   ]
  },
  {
   "cell_type": "markdown",
   "metadata": {},
   "source": [
    "Okay, as we can see from these results, Pyrosm is now approximately **7x faster** altogether. However, the difference is even larger when looking at timings of the last two datasets:\n",
    "\n",
    " - Parsing roads with Pyrosm took 3.2 seconds compared to 78.3 seconds with OSMnx (Pyrosm was ~24x faster)\n",
    " - Parsing POIs with Pyrosm took 4.3 seconds compared to 52.9 seconds with OSMnx (Pyrosm was ~12x faster)\n",
    " \n",
    "These differences are partially due to the difference in design of the tools. Pyrosm downloads the data only once and parses all basic OSM elements from the PBF during the first call. After the first call, all the other calls (with the same initialized `OSM` instance) are read and parsed directly from the memory, which is very fast. OSMnx also supports caching, meaning that if you make identical calls, OSMnx does not necessarily fetch the data another time from the API. However, if you make a slight change to the call, OSMnx needs to make a new API call to OverPass API, whereas Pyrosm uses the same raw data dump once initialized.  \n",
    "\n",
    "**Caveats of Pyrosm compared to OSMnx**\n",
    "\n",
    "Although Pyrosm is fast and as easy to use as OSMnx, there is currently a clear difference between the two in usability which relates to retrieving the raw OSM data. Whereas OSMnx works all over the world straight from the box, with Pyrosm it is currently needed to separately download the data (and possibly even cropped) from Geofabrik before you can get the speed benefits of the tool. Pyrosm has a few test datasets (see `pyrosm.data.available`) available that can be used easily, but in the future, the hope is to add support for clipping the PBF data by a bounding box and saving the extract into a new PBF (similarly as Osmosis/Osmium-tool does now). After this, it would be possible to add automatic download of PBF data in a similar manner as currently in OSMnx.  "
   ]
  },
  {
   "cell_type": "markdown",
   "metadata": {},
   "source": [
    "## Parsing large datasets\n",
    "\n",
    "While obtaining relatively small OSM datasets is easy using e.g. [OSMnx](https://github.com/gboeing/osmnx),\n",
    "`Pyrosm` starts to shine when you need to obtain data from large geographical areas such as countries or states, \n",
    "or when parsing OSM data quickly from local disk is important (the original reason why this library was developed).\n",
    "\n",
    "As an example of such case, next we will measure how long it takes to parse all roads and buildings from the state of New York in USA. \n",
    "The data (~210 MB) can be [downloaded from Geofabrik](http://download.geofabrik.de/north-america/us/new-york.html). \n",
    "The test is done using a laptop with 16GB memory, SSD drive, and Intel Core i5-8250U CPU 1.6 GHZ)."
   ]
  },
  {
   "cell_type": "code",
   "execution_count": 3,
   "metadata": {},
   "outputs": [
    {
     "name": "stdout",
     "output_type": "stream",
     "text": [
      "Downloaded Protobuf data 'new-york-latest.osm.pbf' (208.1 MB) to TEMP:\n",
      "'C:\\Users\\LOCALA~1\\AppData\\Local\\Temp\\pyrosm\\new-york-latest.osm.pbf'\n",
      "Parsing roads lasted 161.0 seconds.\n",
      "Number of roads parsed: 625779\n"
     ]
    }
   ],
   "source": [
    "from pyrosm import OSM, get_path\n",
    "import time\n",
    "\n",
    "# Initialize (downloads data automatically for New York State)\n",
    "fp = get_path(\"new_york_state_pbf\")\n",
    "osm = OSM(fp)\n",
    "\n",
    "# Parse roads and time it\n",
    "start_time = time.time()\n",
    "roads = osm.get_network(\"driving\")\n",
    "print(f\"Parsing roads lasted {round(time.time() - start_time, 0)} seconds.\")\n",
    "print(f\"Number of roads parsed: {len(roads)}\")"
   ]
  },
  {
   "cell_type": "markdown",
   "metadata": {},
   "source": [
    "Okay, so it took **2.7 minutes** to parse around 615,000 drivable roads from OSM and create a GeoDataFrame from the data, not bad! (*OSMnx was still running after 3 hours after which the test was stopped without results*).\n",
    "\n",
    "And this is how the data looks like on a map (plotting done separately using QGIS):\n",
    "\n",
    "![New York State roads](img/New-york-state-drivable-roads.png)"
   ]
  },
  {
   "cell_type": "markdown",
   "metadata": {},
   "source": [
    "- Let's do the same test for buildings"
   ]
  },
  {
   "cell_type": "code",
   "execution_count": 4,
   "metadata": {},
   "outputs": [
    {
     "name": "stdout",
     "output_type": "stream",
     "text": [
      "Parsing buildings lasted 214.0 seconds.\n",
      "Number of buildings parsed: 2231758\n"
     ]
    }
   ],
   "source": [
    "from pyrosm import OSM, get_path\n",
    "import time\n",
    "\n",
    "# Initialize\n",
    "fp = get_path(\"new_york_state_pbf\")\n",
    "osm = OSM(fp)\n",
    "\n",
    "# Parse buildings and time it\n",
    "start_time = time.time()\n",
    "buildings = osm.get_buildings()\n",
    "print(f\"Parsing buildings lasted {round(time.time() - start_time, 0)} seconds.\")\n",
    "print(f\"Number of buildings parsed: {len(buildings)}\")"
   ]
  },
  {
   "cell_type": "markdown",
   "metadata": {},
   "source": [
    "Okay, and as we can see parsing around 2.2 million buildings into a GeoDataFrame from the same area took around **3.6 minutes**. (*trying to do the same thing with OSMnx ended with a memory error after an hour*).\n",
    "\n",
    "And this is how the data looks like on a map:\n",
    "\n",
    "![New York State buildings](img/New-york-state-buildings.png)"
   ]
  },
  {
   "cell_type": "markdown",
   "metadata": {},
   "source": [
    "And a close-up to New York City:\n",
    "\n",
    "![New York City buildings](img/New-york-city-buildings.png)"
   ]
  },
  {
   "cell_type": "markdown",
   "metadata": {},
   "source": [
    "As we can see, parsing large datasets from OSM Protobuf files into GeoDataFrame is very easy and fast with Pyrosm. The available physical memory of the computer is the most significant limitation that comes to parsing very large datasets. With 16GB of RAM on the computer, it should be possible to read fairly easily OSM data from Protobuf file up to a size of 250 MB. The most memory consuming part currently is constructing Shapely geometries into GeoDataFrame. There might be improvements coming on this once Geopandas starts to support Pygeos geometry arrays. "
   ]
  }
 ],
 "metadata": {
  "kernelspec": {
   "display_name": "Python 3",
   "language": "python",
   "name": "python3"
  },
  "language_info": {
   "codemirror_mode": {
    "name": "ipython",
    "version": 3
   },
   "file_extension": ".py",
   "mimetype": "text/x-python",
   "name": "python",
   "nbconvert_exporter": "python",
   "pygments_lexer": "ipython3",
   "version": "3.7.6"
  }
 },
 "nbformat": 4,
 "nbformat_minor": 4
}
