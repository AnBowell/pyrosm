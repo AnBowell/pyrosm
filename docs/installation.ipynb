{
 "cells": [
  {
   "cell_type": "markdown",
   "metadata": {},
   "source": [
    "# Installation\n",
    "\n",
    "The recommended way to install pyrosm is by using [conda](https://docs.conda.io/en/latest/) package manager:\n",
    "\n",
    "`$ conda install -c conda-forge pyrosm`\n",
    "\n",
    "Pyrosm is also distributed via [PyPi](https://pypi.org/project/pyrosm) and it can be installed with pip:\n",
    "\n",
    "`$ pip install pyrosm`\n",
    "\n",
    "## Troubleshooting\n",
    "\n",
    "Pyrosm has a few dependencies (Geopandas, Pygeos, Cython, Pyrobuf and Cykhash) that needs to be successfully installed before Pyrosm works.\n",
    "Most of these libraries should be very easy to install and Pyrosm handles them automatically when installing with pip.\n",
    "On Linux and Mac, pip installation should work out of the box.\n",
    "\n",
    "However, on **Windows** installing [Geopandas](https://geopandas.org) with pip can cause issues. Hence, it is recommended to install\n",
    "Geopandas before installing `pyrosm`. See instructions from [Geopandas website](https://geopandas.org/install.html#installation)."
   ]
  }
 ],
 "metadata": {
  "kernelspec": {
   "display_name": "Python 3",
   "language": "python",
   "name": "python3"
  },
  "language_info": {
   "codemirror_mode": {
    "name": "ipython",
    "version": 3
   },
   "file_extension": ".py",
   "mimetype": "text/x-python",
   "name": "python",
   "nbconvert_exporter": "python",
   "pygments_lexer": "ipython3",
   "version": "3.8.1"
  },
  "pycharm": {
   "stem_cell": {
    "cell_type": "raw",
    "source": [],
    "metadata": {
     "collapsed": false
    }
   }
  }
 },
 "nbformat": 4,
 "nbformat_minor": 4
}